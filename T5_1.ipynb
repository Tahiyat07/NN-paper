{
  "nbformat": 4,
  "nbformat_minor": 0,
  "metadata": {
    "colab": {
      "provenance": [],
      "gpuType": "T4"
    },
    "kernelspec": {
      "name": "python3",
      "display_name": "Python 3"
    },
    "language_info": {
      "name": "python"
    },
    "accelerator": "GPU"
  },
  "cells": [
    {
      "cell_type": "code",
      "execution_count": null,
      "metadata": {
        "colab": {
          "base_uri": "https://localhost:8080/"
        },
        "id": "vilMR3_NM8Tx",
        "outputId": "3913f1ba-6da6-4272-c11d-ae22124d3775"
      },
      "outputs": [
        {
          "output_type": "stream",
          "name": "stdout",
          "text": [
            "Drive already mounted at /content/drive; to attempt to forcibly remount, call drive.mount(\"/content/drive\", force_remount=True).\n"
          ]
        }
      ],
      "source": [
        "# Mount Google Drive\n",
        "from google.colab import drive\n",
        "drive.mount('/content/drive')\n",
        "\n"
      ]
    },
    {
      "cell_type": "code",
      "source": [
        "\n",
        "# Install required libraries\n",
        "!pip install -q transformers datasets\n",
        "\n",
        "# Import libraries\n",
        "import pandas as pd\n",
        "import torch\n",
        "from transformers import T5Tokenizer, T5ForConditionalGeneration\n",
        "from sklearn.model_selection import train_test_split\n",
        "from sklearn.metrics import classification_report\n",
        "\n"
      ],
      "metadata": {
        "id": "XxbZwgAaTJ2F"
      },
      "execution_count": null,
      "outputs": []
    },
    {
      "cell_type": "code",
      "source": [
        "# Load and preprocess dataset\n",
        "df = pd.read_csv('/content/drive/MyDrive/COVID-19_Sentiments.csv')\n",
        "df = df[['Text', 'Sentiments']].dropna()\n",
        "\n",
        "# Convert to sentiment labels: 0=Negative, 1=Neutral, 2=Positive\n",
        "def convert_label(value):\n",
        "    if value < 0:\n",
        "        return \"negative\"\n",
        "    elif value == 0:\n",
        "        return \"neutral\"\n",
        "    else:\n",
        "        return \"positive\"\n",
        "\n",
        "df['label'] = df['Sentiments'].apply(convert_label)\n",
        "\n",
        "# Reduce size for memory\n",
        "df = df.sample(n=3000, random_state=42).reset_index(drop=True)\n",
        "\n",
        "# Prepare input and target for T5\n",
        "df['input_text'] = \"classify sentiment: \" + df['Text']\n",
        "df['target_text'] = df['label']\n",
        "\n",
        "# Train-test split\n",
        "train_texts, test_texts, train_labels, test_labels = train_test_split(\n",
        "    df['input_text'], df['target_text'], test_size=0.2, random_state=42\n",
        ")\n",
        "\n",
        "# Load tokenizer and model\n",
        "tokenizer = T5Tokenizer.from_pretrained('t5-small')\n",
        "model = T5ForConditionalGeneration.from_pretrained('t5-small')\n",
        "\n",
        "# Tokenize\n",
        "def tokenize_data(texts, labels, tokenizer, max_length=128):\n",
        "    inputs = tokenizer(list(texts), padding=True, truncation=True, return_tensors=\"pt\", max_length=max_length)\n",
        "    targets = tokenizer(list(labels), padding=True, truncation=True, return_tensors=\"pt\", max_length=16)\n",
        "    return inputs.input_ids, inputs.attention_mask, targets.input_ids\n",
        "\n",
        "train_input_ids, train_attention_mask, train_labels_ids = tokenize_data(train_texts, train_labels, tokenizer)\n",
        "test_input_ids, test_attention_mask, test_labels_ids = tokenize_data(test_texts, test_labels, tokenizer)\n",
        "\n",
        "# Move to device\n",
        "device = torch.device(\"cuda\" if torch.cuda.is_available() else \"cpu\")\n",
        "model = model.to(device)\n",
        "\n",
        "# Define training loop\n",
        "optimizer = torch.optim.AdamW(model.parameters(), lr=3e-4)\n",
        "model.train()\n",
        "\n",
        "epochs = 3  # reduce if memory is tight\n",
        "batch_size = 8\n",
        "\n",
        "for epoch in range(epochs):\n",
        "    print(f\"Epoch {epoch + 1}/{epochs}\")\n",
        "    for i in range(0, len(train_input_ids), batch_size):\n",
        "        input_ids = train_input_ids[i:i+batch_size].to(device)\n",
        "        attention_mask = train_attention_mask[i:i+batch_size].to(device)\n",
        "        labels = train_labels_ids[i:i+batch_size].to(device)\n",
        "\n",
        "        outputs = model(input_ids=input_ids, attention_mask=attention_mask, labels=labels)\n",
        "        loss = outputs.loss\n",
        "\n",
        "        loss.backward()\n",
        "        optimizer.step()\n",
        "        optimizer.zero_grad()\n",
        "\n",
        "        if i % 64 == 0:\n",
        "            print(f\"Step {i}/{len(train_input_ids)} - Loss: {loss.item():.4f}\")\n",
        "\n",
        "# Evaluation\n",
        "model.eval()\n",
        "preds = []\n",
        "\n",
        "with torch.no_grad():\n",
        "    for i in range(0, len(test_input_ids), batch_size):\n",
        "        input_ids = test_input_ids[i:i+batch_size].to(device)\n",
        "        attention_mask = test_attention_mask[i:i+batch_size].to(device)\n",
        "\n",
        "        outputs = model.generate(input_ids=input_ids, attention_mask=attention_mask, max_length=16)\n",
        "        decoded_preds = [tokenizer.decode(out, skip_special_tokens=True) for out in outputs]\n",
        "        preds.extend(decoded_preds)\n",
        "\n",
        "print(\"\\nClassification Report:\")\n",
        "print(classification_report(test_labels, preds, target_names=[\"negative\", \"neutral\", \"positive\"]))\n"
      ],
      "metadata": {
        "colab": {
          "base_uri": "https://localhost:8080/"
        },
        "id": "koX9vl8UTKzV",
        "outputId": "e29f5910-9723-4809-991d-af248e867420"
      },
      "execution_count": null,
      "outputs": [
        {
          "output_type": "stream",
          "name": "stdout",
          "text": [
            "Epoch 1/3\n",
            "Step 0/2400 - Loss: 8.5540\n",
            "Step 64/2400 - Loss: 1.1117\n",
            "Step 128/2400 - Loss: 0.5676\n",
            "Step 192/2400 - Loss: 0.8091\n",
            "Step 256/2400 - Loss: 0.8092\n",
            "Step 320/2400 - Loss: 0.8827\n",
            "Step 384/2400 - Loss: 0.4189\n",
            "Step 448/2400 - Loss: 0.4736\n",
            "Step 512/2400 - Loss: 0.4824\n",
            "Step 576/2400 - Loss: 0.5050\n",
            "Step 640/2400 - Loss: 0.4431\n",
            "Step 704/2400 - Loss: 0.3893\n",
            "Step 768/2400 - Loss: 0.6399\n",
            "Step 832/2400 - Loss: 0.5539\n",
            "Step 896/2400 - Loss: 0.6709\n",
            "Step 960/2400 - Loss: 0.3921\n",
            "Step 1024/2400 - Loss: 0.3670\n",
            "Step 1088/2400 - Loss: 0.6857\n",
            "Step 1152/2400 - Loss: 0.5417\n",
            "Step 1216/2400 - Loss: 0.5811\n",
            "Step 1280/2400 - Loss: 0.5422\n",
            "Step 1344/2400 - Loss: 0.5519\n",
            "Step 1408/2400 - Loss: 0.5502\n",
            "Step 1472/2400 - Loss: 0.4322\n",
            "Step 1536/2400 - Loss: 0.6564\n",
            "Step 1600/2400 - Loss: 0.5794\n",
            "Step 1664/2400 - Loss: 0.4371\n",
            "Step 1728/2400 - Loss: 0.3932\n",
            "Step 1792/2400 - Loss: 0.5552\n",
            "Step 1856/2400 - Loss: 0.5689\n",
            "Step 1920/2400 - Loss: 0.4453\n",
            "Step 1984/2400 - Loss: 0.3081\n",
            "Step 2048/2400 - Loss: 0.2597\n",
            "Step 2112/2400 - Loss: 0.5210\n",
            "Step 2176/2400 - Loss: 0.6674\n",
            "Step 2240/2400 - Loss: 0.3247\n",
            "Step 2304/2400 - Loss: 0.4259\n",
            "Step 2368/2400 - Loss: 0.2873\n",
            "Epoch 2/3\n",
            "Step 0/2400 - Loss: 0.4568\n",
            "Step 64/2400 - Loss: 0.4675\n",
            "Step 128/2400 - Loss: 0.5664\n",
            "Step 192/2400 - Loss: 0.1134\n",
            "Step 256/2400 - Loss: 0.8411\n",
            "Step 320/2400 - Loss: 0.4565\n",
            "Step 384/2400 - Loss: 0.2744\n",
            "Step 448/2400 - Loss: 0.1445\n",
            "Step 512/2400 - Loss: 0.2882\n",
            "Step 576/2400 - Loss: 0.1672\n",
            "Step 640/2400 - Loss: 0.1105\n",
            "Step 704/2400 - Loss: 0.3841\n",
            "Step 768/2400 - Loss: 0.1824\n",
            "Step 832/2400 - Loss: 0.2586\n",
            "Step 896/2400 - Loss: 0.4208\n",
            "Step 960/2400 - Loss: 0.4595\n",
            "Step 1024/2400 - Loss: 0.4429\n",
            "Step 1088/2400 - Loss: 0.4573\n",
            "Step 1152/2400 - Loss: 0.2295\n",
            "Step 1216/2400 - Loss: 0.3042\n",
            "Step 1280/2400 - Loss: 0.4767\n",
            "Step 1344/2400 - Loss: 0.3483\n",
            "Step 1408/2400 - Loss: 0.5080\n",
            "Step 1472/2400 - Loss: 0.1868\n",
            "Step 1536/2400 - Loss: 0.4855\n",
            "Step 1600/2400 - Loss: 0.1835\n",
            "Step 1664/2400 - Loss: 0.4873\n",
            "Step 1728/2400 - Loss: 0.1453\n",
            "Step 1792/2400 - Loss: 0.3883\n",
            "Step 1856/2400 - Loss: 0.2253\n",
            "Step 1920/2400 - Loss: 0.1623\n",
            "Step 1984/2400 - Loss: 0.2833\n",
            "Step 2048/2400 - Loss: 0.1489\n",
            "Step 2112/2400 - Loss: 0.4234\n",
            "Step 2176/2400 - Loss: 0.4725\n",
            "Step 2240/2400 - Loss: 0.2437\n",
            "Step 2304/2400 - Loss: 0.2404\n",
            "Step 2368/2400 - Loss: 0.0448\n",
            "Epoch 3/3\n",
            "Step 0/2400 - Loss: 0.2611\n",
            "Step 64/2400 - Loss: 0.3733\n",
            "Step 128/2400 - Loss: 0.1977\n",
            "Step 192/2400 - Loss: 0.0977\n",
            "Step 256/2400 - Loss: 0.3223\n",
            "Step 320/2400 - Loss: 0.6976\n",
            "Step 384/2400 - Loss: 0.5313\n",
            "Step 448/2400 - Loss: 0.0600\n",
            "Step 512/2400 - Loss: 0.5815\n",
            "Step 576/2400 - Loss: 0.1083\n",
            "Step 640/2400 - Loss: 0.1854\n",
            "Step 704/2400 - Loss: 0.2179\n",
            "Step 768/2400 - Loss: 0.2187\n",
            "Step 832/2400 - Loss: 0.2092\n",
            "Step 896/2400 - Loss: 0.2653\n",
            "Step 960/2400 - Loss: 0.3235\n",
            "Step 1024/2400 - Loss: 0.2619\n",
            "Step 1088/2400 - Loss: 0.2420\n",
            "Step 1152/2400 - Loss: 0.1947\n",
            "Step 1216/2400 - Loss: 0.1593\n",
            "Step 1280/2400 - Loss: 0.4600\n",
            "Step 1344/2400 - Loss: 0.3323\n",
            "Step 1408/2400 - Loss: 0.1571\n",
            "Step 1472/2400 - Loss: 0.1489\n",
            "Step 1536/2400 - Loss: 0.2128\n",
            "Step 1600/2400 - Loss: 0.2719\n",
            "Step 1664/2400 - Loss: 0.4734\n",
            "Step 1728/2400 - Loss: 0.1051\n",
            "Step 1792/2400 - Loss: 0.5796\n",
            "Step 1856/2400 - Loss: 0.1812\n",
            "Step 1920/2400 - Loss: 0.1276\n",
            "Step 1984/2400 - Loss: 0.0194\n",
            "Step 2048/2400 - Loss: 0.0337\n",
            "Step 2112/2400 - Loss: 0.1267\n",
            "Step 2176/2400 - Loss: 0.2011\n",
            "Step 2240/2400 - Loss: 0.0501\n",
            "Step 2304/2400 - Loss: 0.2192\n",
            "Step 2368/2400 - Loss: 0.0276\n",
            "\n",
            "Classification Report:\n",
            "              precision    recall  f1-score   support\n",
            "\n",
            "    negative       0.76      0.62      0.68       120\n",
            "     neutral       0.87      0.90      0.88       242\n",
            "    positive       0.85      0.89      0.87       238\n",
            "\n",
            "    accuracy                           0.84       600\n",
            "   macro avg       0.82      0.80      0.81       600\n",
            "weighted avg       0.84      0.84      0.84       600\n",
            "\n"
          ]
        }
      ]
    },
    {
      "cell_type": "code",
      "source": [
        "# Print confusion matrix\n",
        "print(\"\\nConfusion Matrix:\\n\", confusion_matrix(test_labels, preds, labels=[\"negative\", \"neutral\", \"positive\"]))"
      ],
      "metadata": {
        "id": "zjH-YcWFU70h",
        "outputId": "eac75286-54d6-4a18-e246-fc1968772907",
        "colab": {
          "base_uri": "https://localhost:8080/"
        }
      },
      "execution_count": null,
      "outputs": [
        {
          "output_type": "stream",
          "name": "stdout",
          "text": [
            "\n",
            "Confusion Matrix:\n",
            " [[ 74  22  24]\n",
            " [ 10 217  15]\n",
            " [ 14  11 213]]\n"
          ]
        }
      ]
    },
    {
      "cell_type": "code",
      "source": [
        "# Compute the confusion matrix\n",
        "cm = confusion_matrix(test_labels, preds, labels=[\"negative\", \"neutral\", \"positive\"])\n",
        "\n",
        "# Plot the confusion matrix\n",
        "plt.figure(figsize=(6, 4))\n",
        "sns.heatmap(cm, annot=True, fmt='d', cmap='Blues',\n",
        "            xticklabels=[\"negative\", \"neutral\", \"positive\"],\n",
        "            yticklabels=[\"negative\", \"neutral\", \"positive\"])\n",
        "plt.xlabel('Predicted')\n",
        "plt.ylabel('True')\n",
        "plt.title('Confusion Matrix')\n",
        "plt.show()\n"
      ],
      "metadata": {
        "colab": {
          "base_uri": "https://localhost:8080/",
          "height": 410
        },
        "id": "BkCt0HlIUIl5",
        "outputId": "4eac3ff4-52f5-436d-adc1-d29e6f469064"
      },
      "execution_count": null,
      "outputs": [
        {
          "output_type": "display_data",
          "data": {
            "text/plain": [
              "<Figure size 600x400 with 2 Axes>"
            ],
            "image/png": "[encoded data removed]"
          },
          "metadata": {}
        }
      ]
    }
  ]
}